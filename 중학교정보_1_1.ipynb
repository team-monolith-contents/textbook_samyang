{
 "cells": [
  {
   "cell_type": "markdown",
   "id": "4cd46724-6014-43a2-ab51-dca66618fe86",
   "metadata": {},
   "source": [
    "<div style=\"padding: 15px; border: 5px solid transparent; border-color: transparent; margin-bottom: 20px; border-radius: 4px; color: #3c763d; background-color: #dff0d8; border-color: #d6e9c6; font-weight: bold;\">\n",
    "    <br><br>\n",
    "    <div style=\"font-weight: bold; font-size: 40px\">정보 문화</div>\n",
    "    <div style=\"font-weight: bold; font-size: 20px\">[01] 정보 사회와 소프트웨어<br>\n",
    "    [02] 정보 사회와 진로 탐색<br>\n",
    "    [03] 개인 정보 보호 실천</div>\n",
    "    <hr style=\"width:80%;text-align:left;margin-left:0;border:0.5px solid green\">\n",
    "    <br>\n",
    "    &#x2022; 정보 기술의 발달과 사회 변화를 설명할 수 있다. <br>\n",
    "    &#x2022; 소프트웨어의 역할과 영향력 분석을 통해 소프트웨어의 가치와 중요성을 설명할 수 있다.<br>\n",
    "    &#x2022; 정보 기술과 소프트웨어의 발달로 인한 미래 직업의 발전 방향을 예측할 수 있다.  <br>\n",
    "    &#x2022; 정보 사회에서 자신의 적성에 맞는 진로를 탐색할 수 있다.<br>\n",
    "    &#x2022; 개인 정보의 중요성을 설명할 수 있다.<br>\n",
    "    &#x2022; 개인 정보를 보호하기 위한 방법을 익혀 실천할 수 있다.<br>\n",
    "</div>"
   ]
  },
  {
   "cell_type": "markdown",
   "id": "807d180e-b63b-46fa-8700-9316dc98eb55",
   "metadata": {
    "tags": []
   },
   "source": [
    "<div style=\"padding: 15px; border: 5px solid transparent; border-color: transparent; margin-bottom: 20px; border-radius: 4px; color: #3c763d; border-color: #d6e9c6; font-weight: bold;\">\n",
    "<h2 style='font-weight: bold'>1. 정보 사회와 소프트웨어</h2>\n",
    "</div>"
   ]
  },
  {
   "cell_type": "markdown",
   "id": "89af247f-40e3-4217-a1b7-be5db5599ab6",
   "metadata": {},
   "source": [
    "<div style=\"padding: 15px; border: 5px solid transparent; border-color: transparent; margin-bottom: 20px; border-radius: 4px; color: #8a6d3b;  border-color: #faebcc; font-weight: bold;\">\n",
    "    <div style=\"font-weight: bold; font-size: 20px\">✏️ [생각 열기]</div>\n",
    "    <br>\n",
    "자율 주행 자동차는 소프트웨어가 사람 대신 자동차를 제어하여 운전한다. 다음 영상을 보고 자율 주행 자동차가 미래에 어떤 변화를 가져올지 생각해 보자.<br><br>\n",
    "    <div align=center><a href=\"https://www.youtube.com/watch?v=DL_p4FiLWAQ\"><button style=\"width:300px; height:50px\">IT는 자동차와 어떻게 만나는가? 자율주행자동차</button></a></div>\n",
    "</div>"
   ]
  },
  {
   "cell_type": "code",
   "execution_count": null,
   "id": "452acc21-77e0-4bdb-97d9-35056a6e1342",
   "metadata": {},
   "outputs": [],
   "source": [
    " 👉 \n",
    " 👉 "
   ]
  },
  {
   "cell_type": "markdown",
   "id": "77fd158e-0bcb-4e1f-a122-9597b8fe6d44",
   "metadata": {},
   "source": [
    "**정보 사회란 무엇일까**\n",
    "\n",
    "- 정보 기술 : 컴퓨터와 통신을 이용하여 정보의 생산과 처리, 전달, 저장, 공유 등을 하는 데 필요한 기술\n",
    "- 정보 사회 : 정보가 중심이 되고, 정보의 생산, 처리, 전달이 중요한 가치로 인식되는 사회\n",
    "\n",
    "정보 기술은 일상생활뿐만 아니라 교육, 의료, 제조, 금융 등 다양한 사회 분야에 영향을 주며 발전을 거듭하고 있다. \n"
   ]
  },
  {
   "cell_type": "markdown",
   "id": "8c236a68-8a26-4758-bc1c-e892cd098f36",
   "metadata": {},
   "source": [
    "<table>\n",
    "<tr>\n",
    "    <th><img src=\"https://tmn-bucket-materials-all.s3.ap-northeast-2.amazonaws.com/image/textbook/sym_01_01_01.png\" width=\"800\"></th>\n",
    "    </tr>\n",
    "<tr>\n",
    "    <th>정보 사회의 모습</th>\n",
    "</tr>\n",
    "</table>"
   ]
  },
  {
   "cell_type": "markdown",
   "id": "386868b4-bb15-4660-96a4-750357fec085",
   "metadata": {},
   "source": [
    "<div style=\"padding: 15px; border: 5px solid transparent; border-color: transparent; margin-bottom: 20px; border-radius: 4px; color: #8a6d3b;  border-color: #faebcc; font-weight: bold;\">\n",
    "    <div style=\"font-weight: bold; font-size: 20px\">✏️ [문제1]</div>\n",
    "    <br>\n",
    "다음 분야별로 정보 사회가 가져온 생활의 변화를 써 보자. \n",
    "</div>"
   ]
  },
  {
   "cell_type": "markdown",
   "id": "80f04e1d-67de-4e79-8e37-09665f3bb53b",
   "metadata": {},
   "source": [
    "    \n",
    "<table width=800>\n",
    "<tr>\n",
    "    <th>교통</th>\n",
    "    <th>교육</th>\n",
    "    <th>금융</th>\n",
    "    <th>가정</th>\n",
    "    </tr>\n",
    "    <tr>\n",
    "        <td>예) 교통 카드로 버스 요금 납부하기</td>\n",
    "    <td align=left>👉 </td>\n",
    "    <td align=left>👉 </td>\n",
    "    <td align=left>👉 </td>\n",
    "    </tr>\n",
    "</table>\n",
    "\n",
    "\n"
   ]
  },
  {
   "cell_type": "markdown",
   "id": "4974f6b2-19ff-4205-bb20-662d114529f5",
   "metadata": {},
   "source": [
    "- 지능 정보 사회 : 첨단 정보 기술과 관련 소프트웨어의 발달로 산업과 사회 전반에 지능화가 실현되고 있는 사회\n",
    "- 사물 인터넷, 빅데이터, 인공지능 등 첨단화된 정보 기술과 다양한 컴퓨팅 시스템이 융합·발전하여 우리 삶이 더욱 편리해질 것으로 예상\n"
   ]
  },
  {
   "cell_type": "markdown",
   "id": "9336dbc4-2c7d-4d0e-929b-ac242e55f67d",
   "metadata": {},
   "source": [
    "<table>\n",
    "<tr>\n",
    "    <th><img src=\"https://tmn-bucket-materials-all.s3.ap-northeast-2.amazonaws.com/image/textbook/sym_01_01_02.png\" width=\"800\"></th>\n",
    "    </tr>\n",
    "<tr>\n",
    "    <th>지능 정보 사회 구현을 위한 지능 정보 기술의 개념</th>\n",
    "</tr>\n",
    "</table>"
   ]
  },
  {
   "cell_type": "markdown",
   "id": "10e9ae54-0b93-4a78-b835-945eb51a0682",
   "metadata": {},
   "source": [
    "<div style=\"padding: 15px; border: 5px solid transparent; border-color: transparent; margin-bottom: 20px; border-radius: 4px; color: #8a6d3b;  border-color: #faebcc; font-weight: bold;\">\n",
    "    <div style=\"font-weight: bold; font-size: 20px\">✏️ [문제2]</div>\n",
    "    <br>\n",
    "다음은 지능 정보 사회의 기반이 되는 핵심 정보 기술이다. 친구들과 함께 생활 주변에서 각각의 기술을 활용한 사례를 찾아 써 보자.\n",
    "</div>"
   ]
  },
  {
   "cell_type": "markdown",
   "id": "6bd60d6a-818d-4411-84d3-b7f179f150e9",
   "metadata": {},
   "source": [
    "    \n",
    "<table width=800>\n",
    "<tr>\n",
    "    <th>사물 인터넷</th>\n",
    "    <th>모바일</th>\n",
    "    <th>클라우드</th>\n",
    "    <th>빅데이터</th>\n",
    "     <th>인공지능</th>\n",
    "    </tr>\n",
    "    <tr> <td>각종 사물에 센서와 통\n",
    "신 기능을 내장하여 인\n",
    "터넷을 통해 상호 작용</td>\n",
    "<td>정보 통신에서 이동성\n",
    "을 가진 것을 의미</td>\n",
    "    <td>인터넷과 연결된 서버에 자료를\n",
    "저장해 놓은 후 인터넷을 통해\n",
    "언제 어디서든지 그 자료를 사용</td>\n",
    "    <td>다양하고 방대한 자료로부\n",
    "터 가치를 추출하고 결과\n",
    "를 분석 </td>\n",
    "    <td>인간처럼 학습하고 추론하는\n",
    "능력을 소프트웨어로 구현</td></tr>\n",
    "    <tr>\n",
    "    <td align=left>👉 </td>\n",
    "    <td align=left>👉 </td>\n",
    "    <td align=left>👉 </td>\n",
    "        <td>예) 기상 예보</td>\n",
    "         <td align=left>👉 </td>\n",
    "    </tr>\n",
    "</table>\n",
    "\n",
    "\n"
   ]
  },
  {
   "cell_type": "markdown",
   "id": "658b7c6e-6e70-4712-bbce-179188894449",
   "metadata": {},
   "source": [
    "**소프트웨어는 우리의 생활을 어떻게 바꾸어 놓았을까**\n",
    "\n",
    "- 소프트웨어 : 하드웨어(hardware) 기기를 작동시키고 원하는 일을 수행하게 하는 다양한 프로그램\n",
    "- 일상에서 사용하는 대부분의 기기에 기기를 동작시키고 기능을 수행하기 위한 소프트웨어 탑재\n",
    "- 사진 찍기, 동영상, 정보검색, SNS 모바일 기기의 다양한 앱 모두 소프트웨어\n",
    "\n",
    "정보 기술을 통해 수집된 자료는 다양한 소프트웨어를 통해 사회의 여러 분야에서 활용되어 새로운 가치를 창출하고 있다."
   ]
  },
  {
   "cell_type": "markdown",
   "id": "a823c8e8-37e1-4f48-b6d4-90988f2bf91a",
   "metadata": {},
   "source": [
    "    \n",
    "<table width=800>\n",
    "<tr>\n",
    "    <th>교통</th>\n",
    "    <th>가정</th>\n",
    "    <th>의료</th>\n",
    "    </tr>\n",
    "    <tr>\n",
    "    <td align=center><img src=\"https://tmn-bucket-materials-all.s3.ap-northeast-2.amazonaws.com/image/textbook/sym_01_01_04.png\" width=\"200\"></td>\n",
    "    <td align=center><img src=\"https://tmn-bucket-materials-all.s3.ap-northeast-2.amazonaws.com/image/textbook/sym_01_01_03.png\" width=\"200\"></td>\n",
    "    <td align=center><img src=\"https://tmn-bucket-materials-all.s3.ap-northeast-2.amazonaws.com/image/textbook/sym_01_01_05.png\" width=\"200\"></td>\n",
    "    </tr>    \n",
    "    <tr> <td>교통 상황을 분석하여 목적지까지 도착하는\n",
    "최적의 길을 안내하여 시간을 절약해 준다.</td>\n",
    "<td>각종 가전 기기는 소프트웨어를 통해 전자 부품을 제어\n",
    "하여 집안일을 도와준다</td>\n",
    "    <td>의학 영상, 혈액 검사 결과, 임상 시험, 질병\n",
    "관련 연구 자료 등의 데이터를 바탕으로 소프\n",
    "트웨어가 인간의 질병을 판단하는 데 도움을\n",
    "준다.</td></tr>\n",
    "    <tr>\n",
    "    <td>예) 내비게이션</td>\n",
    "    <td>예) 냉장고, 세탁기, 전기밥솥</td>\n",
    "    <td>예) 암 진단 소프트웨어\n",
    "</td>\n",
    "    </tr>\n",
    "<tr>\n",
    "    <th colspan=3>소프트웨어로 연결되고 움직이는 세상</th>\n",
    "</tr>\n",
    "</table>\n"
   ]
  },
  {
   "cell_type": "markdown",
   "id": "760c12c1-b173-4abf-bb5a-46bbafa7cfaf",
   "metadata": {
    "tags": []
   },
   "source": [
    "<div style=\"padding: 15px; border: 5px solid transparent; border-color: transparent; margin-bottom: 20px; border-radius: 4px; color: #3c763d; border-color: #d6e9c6; font-weight: bold;\">\n",
    "<h2 style='font-weight: bold'>2. 정보 사회와 진로 탐색</h2>\n",
    "</div>"
   ]
  },
  {
   "cell_type": "markdown",
   "id": "3dd0c602-5b77-4793-b458-565d4fc5bca4",
   "metadata": {},
   "source": [
    "<div style=\"padding: 15px; border: 5px solid transparent; border-color: transparent; margin-bottom: 20px; border-radius: 4px; color: #8a6d3b;  border-color: #faebcc; font-weight: bold;\">\n",
    "    <div style=\"font-weight: bold; font-size: 20px\">✏️ [생각 열기]</div>\n",
    "    <br>\n",
    "    정보 기술의 발달로 일자리에도 많은 변화가 예측된다. 미래에는 어떤 직업들이 각광받을지 생각해 보고, 친구들과 이야기해 보자.<br><br>\n",
    "    <div align=center><a href=\"http://www.ebs.co.kr/tv/show?prodId=112912&lectId=10265316\"><button style=\"width:300px; height:50px\">코딩, 소프트웨어 시대  -  직업의 미래</button></a></div>\n",
    "</div>"
   ]
  },
  {
   "cell_type": "code",
   "execution_count": null,
   "id": "f15daff2-fa4f-4b69-8413-ba2fed47b7e8",
   "metadata": {},
   "outputs": [],
   "source": [
    " 👉 \n",
    " 👉 "
   ]
  },
  {
   "cell_type": "markdown",
   "id": "4e997278-1a02-49cf-8ad0-fee1f1a8c385",
   "metadata": {},
   "source": [
    "**정보 사회에서 직업은 어떻게 변화할까**\n",
    "\n",
    "정보 사회에서는 정보 기술의 발달로 직업 세계도 변화하고 있다. "
   ]
  },
  {
   "cell_type": "markdown",
   "id": "ed327467-946b-40c8-8e14-953ce26de010",
   "metadata": {},
   "source": [
    "<table width=700>\n",
    "<tr>\n",
    "    <th>3D 프린터</th>\n",
    "    <th>드론</th>\n",
    "    </tr>\n",
    "    <tr><td>개인이 필요한 제품을 설계하고 3D 프린터로 직접 생산하는 1인(소규모) 제조업 중심의 맞춤형 생산 시대를 맞고 있다.</td>\n",
    "        <td>무인 택배, 영화나 사진 촬영, 조사, 구조 등의 활동에 이용되고 있으며, 수송·서비스·미디어 등 다양한 산업 분야로 활용 범위가 확대되고 있다.</td></tr>\n",
    "    <tr>    <td align=center><img src=\"https://tmn-bucket-materials-all.s3.ap-northeast-2.amazonaws.com/image/textbook/sym_01_01_06.png\" width=\"300\"></td>\n",
    "    <td align=center><img src=\"https://tmn-bucket-materials-all.s3.ap-northeast-2.amazonaws.com/image/textbook/sym_01_01_07.png\" width=\"300\"></td></tr>\n",
    "    <tr>\n",
    "    <th>인공 지능 그림 소프트웨어</th>\n",
    "    <th>인공 지능 기사 작성 소프트웨어</th>\n",
    "    </tr>\n",
    "    <tr> \n",
    "    <td>사용자가 그림을 그리면 어떤 그림을 그리고자 하는지 판단하여 완성된 그림을 추천해 주는 소프트웨어가 개발되었다.</td>\n",
    "        <td>스포츠, 자연재해 등의 사실을 그대로 전달하는 기사의 경우 관련 자료 수집을 통해 즉시 기사를 작성하여 인터넷에 게시하는 소프트웨어가 등장하였다.</td></tr>\n",
    "    <tr>\n",
    "    <td align=center><img src=\"https://tmn-bucket-materials-all.s3.ap-northeast-2.amazonaws.com/image/textbook/sym_01_01_08.png\" width=\"300\"></td>\n",
    "            <td align=center><img src=\"https://tmn-bucket-materials-all.s3.ap-northeast-2.amazonaws.com/image/textbook/sym_01_01_09.png\" width=\"300\"></td>\n",
    "    </tr>\n",
    "<tr>\n",
    "    <th colspan=2>정보 기술과 소프트웨어의 발달\n",
    "</th>\n",
    "</tr>\n",
    "</table>\n"
   ]
  },
  {
   "cell_type": "markdown",
   "id": "81b51716-3d45-4861-b4fa-a33f7205e9b3",
   "metadata": {},
   "source": [
    "**정보 사회에서 적성에 맞는 진로를 탐색해 볼까**\n",
    "\n",
    "정보 사회의 구성원으로서 살아가기 위해서는 컴퓨터를 정보 처리의 도구로 올바르게 활용하고 다양한 정보가 가진 가치를 잘 판단할 수 있어야 한다. \n",
    "\n",
    "자신의 진로 분야가 정보 기술의 발달과 어떤 관련이 있는지, 미래 사회에서는 어떤 능력을 요구하는지 등을 살펴보는 것도 중요하다\n"
   ]
  },
  {
   "cell_type": "markdown",
   "id": "06ac96cb-67cc-4999-a5b0-007a8fbe19b3",
   "metadata": {},
   "source": [
    "<div style=\"padding: 15px; border: 5px solid transparent; border-color: transparent; margin-bottom: 20px; border-radius: 4px; color: #8a6d3b;  border-color: #faebcc; font-weight: bold;\">\n",
    "    <div style=\"font-weight: bold; font-size: 20px\">✏️ [문제3]</div>\n",
    "    <br>\n",
    "정보 기술과 소프트웨어의 발달은 개인의 삶과 사회에 많은 변화를 주었다. 다음 영상을 보고 인공 지능이 미래 사회에서 직업 현장에 어떤 도움을 주고 어떤 문제를 발생시킬지 친구들과 이야기해 보자.<br><br>\n",
    "\n",
    "<div align=center><a href=\"https://youtu.be/0Yp8J86LH_w\"><button style=\"width:300px; height:50px\">2030년이면 직업 30%가 AI 결합 로봇으로 대체, YTN</button></a></div>\n",
    "\n",
    "</div>"
   ]
  },
  {
   "cell_type": "code",
   "execution_count": null,
   "id": "1a7d3212-5af4-4313-b35d-c90d467d8fc8",
   "metadata": {},
   "outputs": [],
   "source": [
    " 👉 \n",
    " 👉 "
   ]
  },
  {
   "cell_type": "markdown",
   "id": "0ab105d9-af2e-434a-bc37-fa3ea2d30a33",
   "metadata": {
    "tags": []
   },
   "source": [
    "<div style=\"padding: 15px; border: 5px solid transparent; border-color: transparent; margin-bottom: 20px; border-radius: 4px; color: #3c763d; border-color: #d6e9c6; font-weight: bold;\">\n",
    "<h2 style='font-weight: bold'>3. 개인 정보 보호 실천</h2>\n",
    "</div>"
   ]
  },
  {
   "cell_type": "markdown",
   "id": "4662f068-7f78-41e1-a4e2-869aeb94f5bb",
   "metadata": {},
   "source": [
    "<div style=\"padding: 15px; border: 5px solid transparent; border-color: transparent; margin-bottom: 20px; border-radius: 4px; color: #8a6d3b;  border-color: #faebcc; font-weight: bold;\">\n",
    "    <div style=\"font-weight: bold; font-size: 20px\">✏️ [생각 열기]</div>\n",
    "    <br>\n",
    "민수의 하루 일과를 보고 개인 정보를 어떻게 관리해야 할지 생각해 보자.<br>\n",
    "    나도 모르게 개인 정보가 유출되어 자신이나 가족이 불편했던 경험이 있는지 생각해 보고, 어떤피해 사례가 있었는지 함께 이야기해 보자\n",
    "</div>"
   ]
  },
  {
   "cell_type": "markdown",
   "id": "b28d495b-c795-4bdb-97fa-8e06cd04fa64",
   "metadata": {},
   "source": [
    "<table>\n",
    "<tr>\n",
    "    <th><img src=\"https://tmn-bucket-materials-all.s3.ap-northeast-2.amazonaws.com/image/textbook/sym_01_01_10.png\" width=\"800\"></th>\n",
    "    </tr>\n",
    "<tr>\n",
    "    <th>민수의 하루 일과</th>\n",
    "</tr>\n",
    "</table>"
   ]
  },
  {
   "cell_type": "code",
   "execution_count": null,
   "id": "3684044a-d59d-47ee-bec9-f0b207091064",
   "metadata": {},
   "outputs": [],
   "source": [
    " 👉 \n",
    " 👉 "
   ]
  },
  {
   "cell_type": "markdown",
   "id": "6c9c904c-b845-4bd6-8f52-401220234cb7",
   "metadata": {
    "tags": []
   },
   "source": [
    "**개인 정보란 무엇이고, 왜 중요할까**\n",
    "\n",
    "- 개인 정보 : 살아 있는 개인을 식별할 수 있는 정보\n",
    "- 인적정보 : 이름, 주민 등록 번호, 아이디, 주소, 전화번호, 생년월일, 출생지, 가족 관계, 전자 우편 주소 등\n",
    "- 신체적 정보 : 얼굴, 지문, 홍채, 음성, 몸무게, 키 등의 신체 정보, 건강 상태, 병원 진료 기록 등의 의료ㆍ건강 정보\n",
    "- 정신적 정보 : 도서 대여 기록, 웹 사이트 검색 내역 등의 기호ㆍ성향 정보, 사상, 종교, 가치관 등\n",
    "- 사회적 정보 : 학력, 성적 등의 교육 정보, 근무처, 근로 경력 등의 근로 정보, 병역 여부, 군번 등의 병역 정보, 범죄ㆍ재판 기록 등의 법적 정보\n",
    "- 재산 정보 : 소득, 신용 카드 번호, 통장 계좌 번호, 저축 내역 등\n",
    "- 기타 정보 : 전화 통화 내역, 전자 우편 또는 전화 메시지, GPS 등에 의한 위치 정보 등"
   ]
  },
  {
   "cell_type": "markdown",
   "id": "ed917bbd-5286-4130-b7e4-675e8161142d",
   "metadata": {},
   "source": [
    "<div style=\"padding: 15px; border: 5px solid transparent; border-color: transparent; margin-bottom: 20px; border-radius: 4px; color: #8a6d3b;  border-color: #faebcc; font-weight: bold;\">\n",
    "    <div style=\"font-weight: bold; font-size: 20px\">✏️ [문제4]</div>\n",
    "    <br>\n",
    "학교에서 사용하는 개인 정보에는 어떤 것이 있는지 친구들과 이야기해 보자. <br>\n",
    "    \n",
    "</div>\n"
   ]
  },
  {
   "cell_type": "code",
   "execution_count": null,
   "id": "80c7d3d6-3ab3-4649-9820-3297d545ee90",
   "metadata": {},
   "outputs": [],
   "source": [
    " 👉 예) 학교명과 반, 번호 \n",
    " 👉 "
   ]
  },
  {
   "cell_type": "markdown",
   "id": "cd7cecf8-3797-49c8-89f6-49d21cfb2e7c",
   "metadata": {},
   "source": [
    "**정보 사회에서 개인 정보의 중요성**\n",
    "\n",
    "- 개인 정보 침해 : 자신도 모르게 개인 정보가 오·남용되거나 악의적 목적으로 사용되어 피해를 입게 되는 것\n",
    "- 개인 정보가 유출되면 사생활을 침해당하고 정신적·금전적 피해를 입는다. \n",
    "- 사회의 안전과 재산에 막대한 피해를 주는 사기나 심각한 범죄\n",
    "-  개인 정보는 소중하고 안전하게 다루어야 하고, 다른 사람에게 함부로 제공해서는 안 된다. "
   ]
  },
  {
   "cell_type": "markdown",
   "id": "46f23b81-3759-4b4e-b666-184e3c5f7fa8",
   "metadata": {},
   "source": [
    "<table>\n",
    "<tr>\n",
    "    <th><img src=\"https://tmn-bucket-materials-all.s3.ap-northeast-2.amazonaws.com/image/textbook/sym_01_01_11.png\" width=\"800\"></th>\n",
    "    </tr>\n",
    "<tr>\n",
    "    <th>개인 정보 유출 사례</th>\n",
    "</tr>\n",
    "</table>"
   ]
  },
  {
   "cell_type": "markdown",
   "id": "eaffe998-1368-4dd7-b6fd-c5e9dc347992",
   "metadata": {},
   "source": [
    "<div style=\"padding: 15px; border: 5px solid transparent; border-color: transparent; margin-bottom: 20px; border-radius: 4px; color: #8a6d3b;  border-color: #faebcc; font-weight: bold;\">\n",
    "    <div style=\"font-weight: bold; font-size: 20px\">✏️ [문제4]</div>\n",
    "    <br>\n",
    "다음 기사를 읽고 무엇이 문제였는지 생각해 보고, 이와 같은 개인 정보 유출 사례를 찾아 발표해 보자.  <br><br>\n",
    "    <div style=\"padding: 15px; border: 5px solid transparent; border-color: transparent; margin-bottom: 20px; border-radius: 4px; color: #555555; font-weight: normal;\">\"고가의 게임 아이템 주겠다\"… 어린이 속인 20대 구속<br><br>\n",
    "경기 ◦◦경찰서는 인터넷 게임 상에서 어린이들을 상대로 고가의 게임 아이템을 나눠주겠다고 속여 부모의 이\n",
    "름, 주민 등록 번호, 전화번호 등을 알아내고 이를 소액 결제에 이용, 수천만 원 상당의 부당 이득을 취한 A(25)씨에\n",
    "대해 상습 사기 혐의로 구속했다고 밝혔다.<br><br>\n",
    "        [출처] 뉴시스, 2015. 03. 09. \n",
    "</div>    \n",
    "</div>\n"
   ]
  },
  {
   "cell_type": "code",
   "execution_count": null,
   "id": "8ece30cc-b650-4acc-a4af-831fa7292dd9",
   "metadata": {},
   "outputs": [],
   "source": [
    " 👉 \n",
    " 👉 "
   ]
  },
  {
   "cell_type": "markdown",
   "id": "3722207d-5819-466f-a741-da53ffe4771e",
   "metadata": {},
   "source": [
    "**개인 정보는 어떻게 보호해야 할까**\n",
    "\n",
    "개인 정보가 유출되지 않도록 사전에 예방하고 개인 정보를 보호하는 방법을 알고 있어야 한다. "
   ]
  },
  {
   "cell_type": "markdown",
   "id": "54ffd600-7339-4056-8103-6da3085cfcf6",
   "metadata": {},
   "source": [
    "<table width=500>\n",
    "<tr><th>개인 정보 오남용 피해 예방 및 대처 10계명\n",
    "</th></tr>\n",
    "    <tr><td>1. 회원 가입 시, 개인 정보 처리 방침 및 이용 약관 꼼꼼히 살피기</td></tr>\n",
    "    <tr><td align=left>2. 비밀번호는 문자, 숫자, 특수 문자를 조합하여 8자리 이상으로 만들기</td></tr>\n",
    "    <tr><td align=left>3. 비밀번호는 주기적으로 변경하기</td></tr>\n",
    "        <tr>\n",
    "    <td align=left>4.  회원 가입은 주민 등록 번호 대신 아이핀(I-PIN) 사용하기</td>\n",
    "    </tr>\n",
    "    <tr><td>5. 명의 도용 확인 서비스를 이용하여 불법 가입 정보 확인하기</td></tr>\n",
    "        <tr><td>6. 개인 정보는 가까운 사람에게도 알려 주지 않기</td></tr>\n",
    "    <tr><td>7.  P2P 공유 폴더에 개인 정보 저장하지 않기</td></tr>\n",
    "    <tr><td>8. 금융 거래는 PC방에서 이용하지 않기</td></tr>\n",
    "    <tr><td>9. 출처가 불명확한 자료는 다운로드하지 않기</td></tr>\n",
    "    <tr><td>10. 개인 정보 침해 신고 적극 활용하기</td></tr>\n",
    "    <tr><th align=right>[출처] 행정자치부 개인정보보호 종합포털(https://www.privacy.go.kr)</th></tr>\n",
    "</table>\n"
   ]
  },
  {
   "cell_type": "markdown",
   "id": "9e5f953d-b4b6-4680-a16f-c006da26970e",
   "metadata": {},
   "source": [
    "<div style=\"padding: 15px; border: 5px solid transparent; border-color: transparent; margin-bottom: 20px; border-radius: 4px; color: #8a6d3b;  border-color: #faebcc; font-weight: bold;\">\n",
    "    <div style=\"font-weight: bold; font-size: 20px\">✏️ [문제5]</div>\n",
    "    <br>\n",
    "다음 사이트를 방문하여 내 비밀번호는 얼마나 안전한지 점검해 보고, 안전한 비밀번호를 만들어 보자. 비밀번호를 입력하면 홈페이지 배경색으로 비밀번호의 안전도를 분석해 준다. <br><br>\n",
    "    <div align=center><a href=\"https://howsecureismypassword.net\"><button style=\"width:300px; height:50px\">HOW SECURE IS MY PASSWORD?</button></a></div>\n",
    "\n",
    "</div>\n"
   ]
  }
 ],
 "metadata": {
  "kernelspec": {
   "display_name": "Python 3 (ipykernel)",
   "language": "python",
   "name": "python3"
  },
  "language_info": {
   "codemirror_mode": {
    "name": "ipython",
    "version": 3
   },
   "file_extension": ".py",
   "mimetype": "text/x-python",
   "name": "python",
   "nbconvert_exporter": "python",
   "pygments_lexer": "ipython3",
   "version": "3.10.13"
  }
 },
 "nbformat": 4,
 "nbformat_minor": 5
}
