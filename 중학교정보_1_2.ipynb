{
 "cells": [
  {
   "cell_type": "markdown",
   "id": "4cd46724-6014-43a2-ab51-dca66618fe86",
   "metadata": {},
   "source": [
    "<div style=\"padding: 15px; border: 5px solid transparent; border-color: transparent; margin-bottom: 20px; border-radius: 4px; color: #3c763d; background-color: #dff0d8; border-color: #d6e9c6; font-weight: bold;\">\n",
    "    <br><br>\n",
    "    <div style=\"font-weight: bold; font-size: 40px\">정보 문화</div>\n",
    "    <div style=\"font-weight: bold; font-size: 20px\">[04] 저작물의 올바른 이용<br>\n",
    "    [05] 사이버 폭력 예방과 사이버 윤리 실천</div>\n",
    "    <hr style=\"width:80%;text-align:left;margin-left:0;border:0.5px solid green\">\n",
    "    <br>\n",
    "    &#x2022; 저작권 보호의 중요성을 설명할 수 있다<br>\n",
    "    &#x2022; 저작권을 보호하기 위한 방법을 실천할 수 있다.<br>\n",
    "    &#x2022; 사이버 윤리의 필요성을 설명할 수 있다.<br>\n",
    "    &#x2022; 사이버 폭력을 예방하고 게임·인터넷·스마트폰 중독의 예방법을 실천할 수 있다.<br>\n",
    "</div>"
   ]
  },
  {
   "cell_type": "markdown",
   "id": "807d180e-b63b-46fa-8700-9316dc98eb55",
   "metadata": {
    "tags": []
   },
   "source": [
    "<div style=\"padding: 15px; border: 5px solid transparent; border-color: transparent; margin-bottom: 20px; border-radius: 4px; color: #3c763d; border-color: #d6e9c6; font-weight: bold;\">\n",
    "<h2 style='font-weight: bold'>4. 저작물의 올바른 이용</h2>\n",
    "</div>"
   ]
  },
  {
   "cell_type": "markdown",
   "id": "d97a85b4-5c1d-4c87-8f81-8e733334031f",
   "metadata": {},
   "source": [
    "<div style=\"padding: 15px; border: 5px solid transparent; border-color: transparent; margin-bottom: 20px; border-radius: 4px; color: #8a6d3b;  border-color: #faebcc; font-weight: bold;\">\n",
    "    <div style=\"font-weight: bold; font-size: 20px\">✏️ [생각 열기]</div>\n",
    "    <br>\n",
    "다음 사례를 보고 저작권에 대해 생각해 보자.<br><br>\n",
    "    \n",
    "</div>"
   ]
  },
  {
   "cell_type": "markdown",
   "id": "3a72c9e9-618f-4ffa-9953-6a48cc794792",
   "metadata": {},
   "source": [
    "<table>\n",
    "<tr>\n",
    "    <th><img src=\"https://tmn-bucket-materials-all.s3.ap-northeast-2.amazonaws.com/image/textbook/sym_01_02_01.png\" width=\"800\"></th>\n",
    "    </tr>\n",
    "</table>"
   ]
  },
  {
   "cell_type": "code",
   "execution_count": null,
   "id": "258bf5ec-f156-43bf-8036-c6cc7c7e67bd",
   "metadata": {},
   "outputs": [],
   "source": [
    " 👉 \n",
    " 👉 "
   ]
  },
  {
   "cell_type": "markdown",
   "id": "7c3ee94c-caae-4d46-bf9a-eddd56a405e2",
   "metadata": {},
   "source": [
    "**저작권, 어떻게 보호해야 할까**\n",
    "\n",
    "- 저작권(copyright) : 란 인간의 생각이나 감정을 독창적으로 표현하여 창작한 저작물에 대하여 그것을 표현한 사람에게 주는 권리"
   ]
  },
  {
   "cell_type": "markdown",
   "id": "86078de3-90c0-40e6-a201-1c5f890b07cc",
   "metadata": {},
   "source": [
    "<table>\n",
    "<tr>\n",
    "    <th><img src=\"https://tmn-bucket-materials-all.s3.ap-northeast-2.amazonaws.com/image/textbook/sym_01_02_02.png\" width=\"700\"></th>\n",
    "    </tr>\n",
    "<tr>\n",
    "    <th> 저작권을 보호해야 할 저작물의 종류</th>\n",
    "</tr>\n",
    "</table>"
   ]
  },
  {
   "cell_type": "markdown",
   "id": "f8149208-0c8e-49ab-b355-074c9d2ab4db",
   "metadata": {},
   "source": [
    "<div style=\"padding: 15px; border: 5px solid transparent; border-color: transparent; margin-bottom: 20px; border-radius: 4px; color: #8a6d3b;  border-color: #faebcc; font-weight: bold;\">\n",
    "    <div style=\"font-weight: bold; font-size: 20px\">✏️ [문제1]</div>\n",
    "    <br>\n",
    "다음을 읽고 내용이 맞으면 ○, 틀리면 ×를 쓰시오. \n",
    "<br>\n",
    "</div>"
   ]
  },
  {
   "cell_type": "markdown",
   "id": "dc91aef6-60af-4730-bec7-d0b49cf76099",
   "metadata": {},
   "source": [
    "    \n",
    "<table width=500>\n",
    "<tr>\n",
    "    <th width=400>문제</th>\n",
    "    <th>답</th>\n",
    "    </tr>\n",
    "    <tr>\n",
    "        <td>1. 우리 반 친구들의 이름을 가나다순으\n",
    "로 정리한 전화번호부도 저작권을 보호받는 저작물이다.</td>\n",
    "        <td align=center>👉 O, X</td>\n",
    "    </tr>\n",
    "    <tr>\n",
    "        <td>2. 오늘의 날씨를 전달한 신문 기사도 저작권을 보호받는 저작물이다.</td>\n",
    "    <td align=center>👉 O, X</td>\n",
    "    </tr>\n",
    "        <tr>\n",
    "            <td>3. 갑자기 독창적인 아이디어가 떠올라 휴대전화에 녹음한 노래 파일도 저작권을 보호\n",
    "받을 수 있다.</td>\n",
    "    <td align=center>👉 O, X</td>\n",
    "    </tr>\n",
    "    <tr>\n",
    "        <td>4. 우리나라의 헌법이나 법률도 저작권\n",
    "을 보호받는 저작물이다.</td>\n",
    "    <td align=center>👉 O, X</td>\n",
    "    </tr>\n",
    "        <tr>\n",
    "            <td>5. 내가 찍은 사진이나 스스로 해결한 숙제도 저작권을 보호받을 수 있다.</td>\n",
    "    <td align=center>👉 O, X</td>\n",
    "    </tr>\n",
    "    <tr>\n",
    "        <td>6. 저작자가 사망하면 저작물에 대한 권리도 사라진다.</td>\n",
    "    <td align=center>👉 O, X</td>\n",
    "    </tr>\n",
    "</table>\n",
    "\n",
    "\n"
   ]
  },
  {
   "cell_type": "markdown",
   "id": "e9f2bda7-2eec-4d88-80c9-81ec0bd80d9a",
   "metadata": {},
   "source": [
    "**저작물의 올바른 이용**\n",
    "\n",
    "저작권을 보호하면 저작자의 창작 의욕을 높여 더 좋은 저작물을 만드는 데 도움이 될 뿐만 아니라 개인과 우리 사회의 문화 발전에도 기여할 수 있다."
   ]
  },
  {
   "cell_type": "markdown",
   "id": "d4066e1e-39b3-4373-8743-7d6c8876ce59",
   "metadata": {},
   "source": [
    "<table>\n",
    "<tr>\n",
    "    <th><img src=\"https://tmn-bucket-materials-all.s3.ap-northeast-2.amazonaws.com/image/textbook/sym_01_02_03.png\" width=\"800\"></th>\n",
    "    </tr>\n",
    "<tr>\n",
    "    <th>타인의 저작물을 올바르게 이용하는 방법</th>\n",
    "</tr>\n",
    "</table>"
   ]
  },
  {
   "cell_type": "markdown",
   "id": "6028bce3-df40-445b-b6ef-022ce44985c5",
   "metadata": {},
   "source": [
    "<div style=\"padding: 15px; border: 5px solid transparent; border-color: transparent; margin-bottom: 20px; border-radius: 4px; color: #8a6d3b;  border-color: #faebcc; font-weight: bold;\">\n",
    "    <div style=\"font-weight: bold; font-size: 20px\">✏️ [문제2]</div>\n",
    "    <br>\n",
    "다음 <사례>의 경우 저작권 보호를 받을 수 있을지 생각해 보고, 그렇게 생각한 이유를 써 보자.  <br>\n",
    "</div>"
   ]
  },
  {
   "cell_type": "markdown",
   "id": "0f031f89-5ea0-468d-9d14-774f783d38fe",
   "metadata": {},
   "source": [
    "<table width=700>\n",
    "<tr>\n",
    "    <th width=350>사례</th>\n",
    "    <th>저작권 보호 여부</th>\n",
    "    <th>그렇게 생각한 이유</th>\n",
    "    </tr>\n",
    "    <tr>\n",
    "        <td align=center>운동 경기의 인상 깊은 장면을 웹툰으로 그린 것</td>\n",
    "        <td align=center>👉 O, X</td>\n",
    "        <td align=left>👉 </td>\n",
    "    </tr>\n",
    "    <tr>\n",
    "        <td align=center>원숭이가 직접 찍은 셀카</td>\n",
    "    <td align=center>👉 O, X</td>\n",
    "        <td align=left>👉 </td>\n",
    "    </tr>\n",
    "        <tr>\n",
    "            <td align=center>인공 지능이 그린 그림</td>\n",
    "    <td align=center>👉 O, X</td>\n",
    "            <td align=left>👉 </td>\n",
    "    </tr>\n",
    "</table>"
   ]
  },
  {
   "cell_type": "markdown",
   "id": "1652513e-817d-4676-82e0-8cddd53cb39f",
   "metadata": {},
   "source": [
    "**저작물 이용 허락 표시를 알아볼까**\n",
    "\n",
    "저작권은 저작자가 저작물을 창작한 때부터 권리가 발생하며, 어떤 절차나 등록을 요구하지 않는다\n",
    "- 저작물 이용 허락 표시 : 저작물에 표시된 일정한 조건 안에서 누구나 자유롭게 저작물을 이용할 수 있도록 허락한다는 표시"
   ]
  },
  {
   "cell_type": "markdown",
   "id": "031da39b-ade7-41e3-951e-4b9a940b184f",
   "metadata": {},
   "source": [
    "<table>\n",
    "<tr>\n",
    "    <th><img src=\"https://tmn-bucket-materials-all.s3.ap-northeast-2.amazonaws.com/image/textbook/sym_01_02_04.png\" width=\"600\"></th>\n",
    "    </tr>\n",
    "        <tr>\n",
    "<tr>\n",
    "    <th>저작물 이용 허락 표시의 종류와 의미</th>\n",
    "</tr>\n",
    "</table>"
   ]
  },
  {
   "cell_type": "markdown",
   "id": "255e5af2-0d02-4d28-a4e2-d0681e3997e5",
   "metadata": {},
   "source": [
    "<div style=\"padding: 15px; border: 5px solid transparent; border-color: transparent; margin-bottom: 20px; border-radius: 4px; color: #8a6d3b;  border-color: #faebcc; font-weight: bold;\">\n",
    "    <div style=\"font-weight: bold; font-size: 20px\">✏️ [문제3]</div>\n",
    "    <br>\n",
    "내가 사는 지역을 소개하는 숙제를 하려고 인터넷 검색을 하다 보니 필요한 사진에 다음과 같이 저작물 이용 허락 표시(CCL)가 적용되어 있다. 저작물을 어떻게 사용해야 하는 것인지 설명해 보자.<br>\n",
    "</div>"
   ]
  },
  {
   "cell_type": "markdown",
   "id": "e59c28b6-4f91-44a7-a8e7-46266fe78cde",
   "metadata": {},
   "source": [
    "<table>\n",
    "<tr>\n",
    "    <th><img src=\"https://tmn-bucket-materials-all.s3.ap-northeast-2.amazonaws.com/image/textbook/sym_01_02_05.png\" width=\"500\"></th>\n",
    "    </tr>\n",
    "</table>"
   ]
  },
  {
   "cell_type": "code",
   "execution_count": null,
   "id": "8b883f38-4e74-4535-b10d-446fe26c245c",
   "metadata": {},
   "outputs": [],
   "source": [
    " 👉 \n",
    " 👉 "
   ]
  },
  {
   "cell_type": "markdown",
   "id": "6d85b0e8-9e88-45ce-b391-eef4e2d96545",
   "metadata": {},
   "source": [
    "**소프트웨어 사용권이란 무엇일까**\n",
    "\n",
    "- 소프트웨어 : 컴퓨터에 명령을 내려 작업을 수행하게 하는 프로그램. 소프트웨어를 만든 사람이나 회사는 저작권을 갖게 된다."
   ]
  },
  {
   "cell_type": "markdown",
   "id": "894f5277-a67a-459a-8b30-facb1b52ae10",
   "metadata": {},
   "source": [
    "<table>\n",
    "<tr>\n",
    "    <th><img src=\"https://tmn-bucket-materials-all.s3.ap-northeast-2.amazonaws.com/image/textbook/sym_01_02_06.png\" width=\"800\"></th>\n",
    "    </tr>\n",
    "        <tr>\n",
    "<tr>\n",
    "    <th>소프트웨어 사용권의 종류</th>\n",
    "</tr>\n",
    "</table>"
   ]
  },
  {
   "cell_type": "markdown",
   "id": "50bc4673-ad10-4fe2-aae4-062610c0f5a3",
   "metadata": {},
   "source": [
    "<div style=\"padding: 15px; border: 5px solid transparent; border-color: transparent; margin-bottom: 20px; border-radius: 4px; color: #8a6d3b;  border-color: #faebcc; font-weight: bold;\">\n",
    "    <div style=\"font-weight: bold; font-size: 20px\">✏️ [문제4]</div>\n",
    "    <br>\n",
    "자신이 사용하고 있는 소프트웨어를 소프트웨어 사용권에 따라 구분하여 조사해 보자.<br>\n",
    "</div>"
   ]
  },
  {
   "cell_type": "markdown",
   "id": "f7d471ed-5604-4100-91f3-2714e7efa283",
   "metadata": {},
   "source": [
    "    \n",
    "<table width=800>\n",
    "<tr>\n",
    "    <th>상용 소프트웨어</th>\n",
    "    <th>셰어웨어 </th>\n",
    "    <th>공개 소프트웨어</th>\n",
    "    <th>프리웨어</th>\n",
    "    </tr>\n",
    "    <tr>\n",
    "        <td align=left>👉 </td>\n",
    "    <td align=left>👉 </td>\n",
    "    <td align=left>👉 </td>\n",
    "    <td align=left>👉 </td>\n",
    "    </tr>\n",
    "</table>\n",
    "\n",
    "\n"
   ]
  },
  {
   "cell_type": "markdown",
   "id": "3862d189-c469-46bf-a6f3-b71031525fbb",
   "metadata": {
    "tags": []
   },
   "source": [
    "<div style=\"padding: 15px; border: 5px solid transparent; border-color: transparent; margin-bottom: 20px; border-radius: 4px; color: #3c763d; border-color: #d6e9c6; font-weight: bold;\">\n",
    "<h2 style='font-weight: bold'>5. 사이버 폭력 예방과 사이버 윤리 실천</h2>\n",
    "</div>"
   ]
  },
  {
   "cell_type": "markdown",
   "id": "f49cc024-885d-407c-b110-5752a3391ca7",
   "metadata": {},
   "source": [
    "<div style=\"padding: 15px; border: 5px solid transparent; border-color: transparent; margin-bottom: 20px; border-radius: 4px; color: #8a6d3b;  border-color: #faebcc; font-weight: bold;\">\n",
    "    <div style=\"font-weight: bold; font-size: 20px\">✏️ [생각 열기]</div>\n",
    "    <br>\n",
    "다음 상황을 보고 왜 발생하는 것일까? 같은 경험이 있었는지 떠올려 보고, 함께 이야기해 보자. \n",
    "    \n",
    "</div>"
   ]
  },
  {
   "cell_type": "markdown",
   "id": "e31361a3-1471-4df3-8b32-85b48b9f85a0",
   "metadata": {},
   "source": [
    "<table>\n",
    "<tr>\n",
    "    <th><img src=\"https://tmn-bucket-materials-all.s3.ap-northeast-2.amazonaws.com/image/textbook/sym_01_02_07.png\" width=\"700\"></th>\n",
    "    </tr>\n",
    "</table>"
   ]
  },
  {
   "cell_type": "markdown",
   "id": "4995e5a1-ed03-47f7-94f2-d0b7d0d2ed85",
   "metadata": {},
   "source": [
    "**사이버 폭력, 어떻게 예방할까** \n",
    "\n",
    "- 정보 윤리 : 정보 사회의 구성원이 지켜야 하는 올바른 가치관과 행동 양식\n",
    "- 사이버 윤리 : 사이버 공간에서 지켜야 할 정보 윤리\n",
    "\n",
    "사이버 공간은 익명성과 쌍방향성을 띤다. \n",
    "- 익명성 : 어떤 행위를 한 사람이 누구인지 드러나지 않는 특성\n",
    "- 쌍방향성 : 어떤 주제에 대해 서로 의견을 주고받을 수 있는 의사소통 방식\n",
    "- 소통을 원활하게 하고 서로의 생각을 자유롭게 나눌 수 있다는 장점이 있다. "
   ]
  },
  {
   "cell_type": "markdown",
   "id": "b6caeff5-9993-46c8-9a2e-e61905d26acb",
   "metadata": {},
   "source": [
    "<table>\n",
    "<tr>\n",
    "    <th><img src=\"https://tmn-bucket-materials-all.s3.ap-northeast-2.amazonaws.com/image/textbook/sym_01_02_08.png\" width=\"800\"></th>\n",
    "    </tr>\n",
    "<tr>\n",
    "    <th>사이버 공간의 특성</th>\n",
    "</tr>\n",
    "</table>"
   ]
  },
  {
   "cell_type": "markdown",
   "id": "eee1bcd4-0d4e-4e7a-a04b-3aa4a4483dd6",
   "metadata": {},
   "source": [
    "- 사이버 폭력 : 사이버 공간에서 발생하는 폭력. 폭력적인 언어를 사용하거나 제3자에게 모욕적인 내용을 유포하는 등의 행위를 하여 상대방에게 폭력을 행사하는 것"
   ]
  },
  {
   "cell_type": "markdown",
   "id": "03d3a5cb-a52c-446a-8fd7-9d556fc9e9fc",
   "metadata": {},
   "source": [
    "    \n",
    "<table width=500>\n",
    "  <tr>\n",
    "    <th width=100 align=center>유형</th>\n",
    "    <th>내용</th>\n",
    "  </tr>\n",
    "  <tr>\n",
    "    <td align=center>사이버 언어폭력</td>\n",
    "    <td>게시판이나 대화방, SNS를 통해 욕설, 인격 모독 등의 글을 올리는 행위</td>\n",
    "  </tr>\n",
    "  <tr>\n",
    "    <td align=center>사이버 명예 훼손</td>\n",
    "    <td>사실 여부와 관계없이 상대를 비방할 목적으로 사진이나 글을 게시하여 인격을\n",
    "침해하는 행위</td>\n",
    "  </tr>\n",
    "  <tr>\n",
    "    <td align=center>사이버 따돌림</td>\n",
    "    <td>인터넷 대화방에서 같은 무리에 들지 못하도록 다음과 같은 행위를 하는 것을 말한다.\n",
    "(상대방을 퇴장하지 못하게 막기, 놀리기, 욕하기, 대화에 참여하지 못하게 하기 등)</td>\n",
    "  </tr>\n",
    "  <tr>\n",
    "    <td align=center>사이버 성폭력</td>\n",
    "    <td>성적인 묘사, 성적 비하, 성차별적인 발언 등을 포함한 글, 사진, 동영상 등을 인터넷에 배포하는 행위</td>\n",
    "  </tr>\n",
    "    <tr>\n",
    "        <td align=center>사이버 스토킹</td>\n",
    "        <td>원하지 않는 문자, 사진, 동영상 등을 지속적으로 보내어 상대방에게 불안감과 공포감을 주는 일체의 행위</td>\n",
    "    </tr>\n",
    "        <tr><th colspan=2>사이버 폭력의 유형</th></tr>\n",
    "</table>\n",
    "\n",
    "\n"
   ]
  },
  {
   "cell_type": "markdown",
   "id": "2a1d7126-730b-4458-ab17-09d1083cd7e7",
   "metadata": {},
   "source": [
    "    \n",
    "<table width=800>\n",
    "  <tr>\n",
    "    <th width=30% align=left>1. 서로 존중하고 배려해요.</th>\n",
    "    <td>타인도 자신과 같이 감정과 생각을 가진\n",
    "사람임을 잊지 않는다.</td>\n",
    "  </tr>\n",
    "  <tr>\n",
    "    <th align=left>2. 개인 정보는 스스로 지켜요.</th>\n",
    "    <td>개인 정보를 소중히 생각하고 보호\n",
    "한다.</td>\n",
    "  </tr>\n",
    "  <tr>\n",
    "    <th align=left>3. 올바르게 이야기해요.</th>\n",
    "    <td>고운 말을 사용하고, 거짓된 내용\n",
    "이나 개인의 사생활에 대한 내용은\n",
    "올리지 않으며, 작성한 글은 여러 번 읽\n",
    "어 보고 올린다.</td>\n",
    "  </tr>\n",
    "  <tr>\n",
    "    <th align=left>4. 오해받을 수 있는 행동은 하지 않아요.</th>\n",
    "    <td>타인으로부터 오해나 불신을 살 만한 행\n",
    "동은 하지 않는다.</td>\n",
    "  </tr>\n",
    "    <tr>\n",
    "        <th align=left>5. 사이버 폭력에 대해 정확히 이해해요.</th>\n",
    "        <td>사이버 폭력이 무엇인지 정확하게 이해해\n",
    "야 예방하고 대처할 수 있다.</td>\n",
    "    </tr>\n",
    "    <tr>\n",
    "        <th align=left>6. 자주 이야기해요.</th>\n",
    "        <td>평소 사이버 공간에서의 활동과 관련하여 부모님\n",
    "또는 선생님과 대화의 시간을 자주 갖는다.</td>\n",
    "    </tr>\n",
    "        <tr>\n",
    "        <th align=left>7. 정확히 도움을 요청해요.</th>\n",
    "        <td>사이버 폭력을 당할 경우 학교와 선생님, 부모님\n",
    "이 든든한 지원자가 되어 준다.</td>\n",
    "    </tr>\n",
    "        <tr>\n",
    "        <th align=left>8. 처음부터 정확히 대처해요.</th>\n",
    "        <td>분명한 거부 의사를 표현하고 보복하지 않으며,\n",
    "무시하거나 차단한다.</td>\n",
    "    </tr>\n",
    "        <tr>\n",
    "        <th align=left>9. 사이버 폭력의 증거, 지우지 않아요.</th>\n",
    "        <td>자신을 비난하거나 욕설 등의 메시지를 받은 경\n",
    "우 삭제하지 말고 증거를 확보해야 한다. 이때 자신\n",
    "이 분명한 거부 의사를 표시한 내용을 함께 확보하\n",
    "는 것이 좋다.</td>\n",
    "    </tr>\n",
    "        <tr>\n",
    "        <th align=left>10. 적극적으로 대응해요.</th>\n",
    "        <td>사이버 폭력을 당했을 때 관련 기관을 찾아 상담\n",
    "과 도움을 받거나, 사이트 관리자에게 사이버 폭력\n",
    "피해 사실을 신고하고 삭제를 요청한다.</td>\n",
    "    </tr>\n",
    "        <tr><td colspan=2 align=right>[출처] 교육부, 한국교육학술정보원, 사이버폭력 제대로 이해하기, 2016</td></tr>\n",
    "        <tr><th colspan=2>사이버 폭력 예방\n",
    "및 대처를 위한\n",
    " 원칙</th></tr>\n",
    "</table>\n",
    "\n",
    "\n"
   ]
  },
  {
   "cell_type": "markdown",
   "id": "792c72bf-b75d-4992-908f-cbb61acb3d62",
   "metadata": {},
   "source": [
    "**사이버 중독, 어떻게 예방할까**\n",
    "\n",
    "- 사이버 중독 : 컴퓨터나 스마트폰을 이용한 사이버 공간에서 각종 게임이나 SNS 활동 등에 지나치게 의존하는 상태"
   ]
  },
  {
   "cell_type": "markdown",
   "id": "c1e0f98e-cb68-461b-b5f7-3a9f314f757d",
   "metadata": {},
   "source": [
    "<table>\n",
    "<tr>\n",
    "    <th><img src=\"https://tmn-bucket-materials-all.s3.ap-northeast-2.amazonaws.com/image/textbook/sym_01_02_09.png\" width=\"800\"></th>\n",
    "    </tr>\n",
    "<tr>\n",
    "    <th>사이버 중독자에게 나타나는 대표적 증상</th>\n",
    "</tr>\n",
    "</table>"
   ]
  },
  {
   "cell_type": "markdown",
   "id": "96f8ddb2-391d-482a-8b4f-47fa49ae7301",
   "metadata": {},
   "source": [
    "<table>\n",
    "<tr>\n",
    "    <th><img src=\"https://tmn-bucket-materials-all.s3.ap-northeast-2.amazonaws.com/image/textbook/sym_01_02_10.png\" width=\"800\"></th>\n",
    "    </tr>\n",
    "<tr>\n",
    "    <th>사이버 중독의 대표적인 종류</th>\n",
    "</tr>\n",
    "</table>"
   ]
  },
  {
   "cell_type": "markdown",
   "id": "f93d79e7-fbe2-47b3-8b3d-d014535837a2",
   "metadata": {},
   "source": [
    "컴퓨터나 스마트폰의 지나친 사용으로 인해 중독에 이른다면 친구나 가족 간의 관계에 문제가 발생할 수 있으며, 신체적·경제적 피해를 가져올 수 있다. "
   ]
  },
  {
   "cell_type": "markdown",
   "id": "46050402-9385-4e71-81df-4727f223a760",
   "metadata": {},
   "source": [
    "    \n",
    "<table width=500>\n",
    "  <tr>\n",
    "      <th align=center><font color='purple'>사이버 중독 예방가이드</font></th>\n",
    "  </tr>\n",
    "    <tr><td align=left>1. 특별한 목적 없이 컴퓨터나 스마트폰을 사용하지 않는다.</td></tr>\n",
    "  <tr><td align=left>2. 컴퓨터나 스마트폰 사용 시간을 가족들과 협의하여 결정한다.</td></tr>\n",
    "  <tr><td align=left>3. 컴퓨터나 스마트폰 사용 시간과 내용을 사용 일지에 기록하는 습관을 들인다.</td></tr>\n",
    "  <tr><td align=left>4. 컴퓨터나 스마트폰 사용 시간을 수시로 확인한다.</td></tr>\n",
    "  <tr><td align=left>5. 인터넷이나 게임 사용 이외에 운동이나 취미 활동 시간을 늘린다.</td></tr>\n",
    "  <tr><td align=left>6. 인터넷이나 게임 때문에 식사나 취침 시간을 어기지 않는다.</td></tr>\n",
    "  <tr><td align=left>7. 스스로 사용 조절이 어려울 경우 시간 관리 소프트웨어를 설치한다.</td></tr>\n",
    "    <tr><th align=right>출처: 스마트쉼센터</th></tr>\n",
    "</table>\n",
    "\n",
    "\n"
   ]
  }
 ],
 "metadata": {
  "kernelspec": {
   "display_name": "Python 3 (ipykernel)",
   "language": "python",
   "name": "python3"
  },
  "language_info": {
   "codemirror_mode": {
    "name": "ipython",
    "version": 3
   },
   "file_extension": ".py",
   "mimetype": "text/x-python",
   "name": "python",
   "nbconvert_exporter": "python",
   "pygments_lexer": "ipython3",
   "version": "3.10.13"
  }
 },
 "nbformat": 4,
 "nbformat_minor": 5
}
