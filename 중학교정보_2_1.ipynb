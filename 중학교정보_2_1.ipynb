{
 "cells": [
  {
   "cell_type": "markdown",
   "id": "4cd46724-6014-43a2-ab51-dca66618fe86",
   "metadata": {},
   "source": [
    "<div style=\"padding: 15px; border: 5px solid transparent; border-color: transparent; margin-bottom: 20px; border-radius: 4px; color: #3c763d; background-color: #dff0d8; border-color: #d6e9c6; font-weight: bold;\">\n",
    "    <br><br>\n",
    "    <div style=\"font-weight: bold; font-size: 40px\">자료와 정보</div>\n",
    "    <div style=\"font-weight: bold; font-size: 20px\">[01] 자료와 정보의 표현</div>\n",
    "    <hr style=\"width:80%;text-align:left;margin-left:0;border:0.5px solid green\">\n",
    "    <br>\n",
    "    &#x2022; 디지털 정보의 속성과 특징을 설명할 수 있다.<br>\n",
    "    &#x2022; 다른 형태로 표현된 자료와 정보를 디지털 형태로 표현할 수 있다.<br>\n",
    "</div>"
   ]
  },
  {
   "cell_type": "markdown",
   "id": "807d180e-b63b-46fa-8700-9316dc98eb55",
   "metadata": {},
   "source": [
    "<div style=\"padding: 15px; border: 5px solid transparent; border-color: transparent; margin-bottom: 20px; border-radius: 4px; color: #3c763d; border-color: #d6e9c6; font-weight: bold;\">\n",
    "<h2 style='font-weight: bold'>1. 자료와 정보의 표현</h2>\n",
    "</div>"
   ]
  },
  {
   "cell_type": "markdown",
   "id": "ed047fd3-ecb2-4ae0-bdf1-be7446e1587a",
   "metadata": {},
   "source": [
    "<div style=\"padding: 15px; border: 5px solid transparent; border-color: transparent; margin-bottom: 20px; border-radius: 4px; color: #8a6d3b;  border-color: #faebcc; font-weight: bold;\">\n",
    "    <div style=\"font-weight: bold; font-size: 20px\">✏️ [생각 열기]</div>\n",
    "    <br>\n",
    "다음 예처럼 원하는 물건을 찾거나 어떤 사안에 대해 회의한 내용을 기록하여 정리할 때 컴퓨터와 같은 정보 기기를 이용한 적이 있을 것이다. 정보를 컴퓨터에 저장하고 활용하면 어떤 점이 좋은지 함께 이야기해 보자.\n",
    "    \n",
    "</div>"
   ]
  },
  {
   "cell_type": "markdown",
   "id": "e52077b9-37dc-4ce3-8bb4-7e91b014fe30",
   "metadata": {},
   "source": [
    "<table>\n",
    "<tr>\n",
    "    <th><img src=\"https://tmn-bucket-materials-all.s3.ap-northeast-2.amazonaws.com/image/textbook/sym_02_01_01.png\" width=\"800\"></th>\n",
    "    </tr>\n",
    "</table>"
   ]
  },
  {
   "cell_type": "code",
   "execution_count": null,
   "id": "e44b7803-60a1-4d72-805b-9a5a5f7ffd83",
   "metadata": {},
   "outputs": [],
   "source": [
    " 👉 \n",
    " 👉 "
   ]
  },
  {
   "cell_type": "markdown",
   "id": "01e09112-94a2-4c1c-9524-60b17a8b0b5f",
   "metadata": {},
   "source": [
    "**디지털 정보는 어떤 속성과 특징을 갖고 있을까**\n",
    "\n",
    "- 자료(data) : 관찰이나 측정을 통하여 얻은 값이나 사실\n",
    "- 정보(information) : 다양한 자료를 목적에 맞게 선별·가공하여 유용한 형태로 만든 것"
   ]
  },
  {
   "cell_type": "markdown",
   "id": "2d316bdc-47c2-49e5-a07a-b279e34e3971",
   "metadata": {},
   "source": [
    "\n",
    "<table>\n",
    "<tr>\n",
    "    <th><img src=\"https://tmn-bucket-materials-all.s3.ap-northeast-2.amazonaws.com/image/textbook/sym_02_01_02.png\" width=\"800\"></th>\n",
    "    </tr>\n",
    "<tr>\n",
    "    <th>정보의 생성과 활용</th>\n",
    "</tr>\n",
    "</table>"
   ]
  },
  {
   "cell_type": "markdown",
   "id": "1adb88e3-f665-4596-b5cd-5ea0e699d64d",
   "metadata": {},
   "source": [
    "정보는 표현 방법에 따라 아날로그(analog) 정보와 디지털(digital) 정보로 구분할 수 있다.\n",
    "\n",
    "- 아날로그 : 길이, 밝기, 크기, 세기 등과 같이 시간의 흐름에 따라 연속적으로 변화하는 값을 그대로 표현하는 방식\n",
    "- 디지털 : 연속적인 값을 일정한 간격으로 끊어서 명확한 수치의 형태로 표현하는 방식"
   ]
  },
  {
   "cell_type": "markdown",
   "id": "959e896c-a9bf-4b49-b53d-ed887b7d03f5",
   "metadata": {},
   "source": [
    "<table>\n",
    "<tr>\n",
    "    <th><img src=\"https://tmn-bucket-materials-all.s3.ap-northeast-2.amazonaws.com/image/textbook/sym_02_01_03.png\" width=\"800\"></th>\n",
    "    </tr>\n",
    "<tr>\n",
    "    <th>아날로그 정보와 디지털 정보의 특징\n",
    "</th>\n",
    "</tr>\n",
    "</table>"
   ]
  },
  {
   "cell_type": "markdown",
   "id": "0f5bd170-3bc4-4769-867d-83eb8d6fd27f",
   "metadata": {},
   "source": [
    "<div style=\"padding: 15px; border: 5px solid transparent; border-color: transparent; margin-bottom: 20px; border-radius: 4px; color: #8a6d3b;  border-color: #faebcc; font-weight: bold;\">\n",
    "    <div style=\"font-weight: bold; font-size: 20px\">✏️ [문제1]</div>\n",
    "    <br>\n",
    "아날로그 정보에서 디지털 정보로 바뀌면서 우리 생활에 편리한 변화를 가져온 사례에는 무엇이 있는지 찾아보자.<br>\n",
    "</div>"
   ]
  },
  {
   "cell_type": "markdown",
   "id": "1e7e755e-dbed-47f3-8bfd-d3b54135b004",
   "metadata": {},
   "source": [
    "    \n",
    "<table width=800>\n",
    "<tr>\n",
    "    <th>아날로그 정보</th>\n",
    "    <th>디지털 정보</th>\n",
    "    <th>편리한 점</th>\n",
    "    </tr>\n",
    "    <tr>\n",
    "        <td align=left>예) 영화표 현장 예매<br>👉 </td>\n",
    "    <td align=left>예) 영화표 인터넷 예매<br>👉 </td>\n",
    "    <td align=left>예) 시간과 장소에 상관없이 예매할 수 있다.<br>👉 </td>\n",
    "    </tr>\n",
    "</table>\n",
    "\n",
    "\n"
   ]
  },
  {
   "cell_type": "markdown",
   "id": "28bb83f5-a66b-4b02-b17e-7ab8e7c50604",
   "metadata": {},
   "source": [
    "**정보의 디지털 표현은 어떻게 할까**\n",
    "\n",
    "컴퓨터는 전기 신호의 세기에 따라 0 또는 1의 두 가지 상태로 모든 것을 표현하는 디지털 기기이다.\n",
    "\n",
    "- 정보의 디지털화 : 컴퓨터가 이해할 수 있는 0과 1의 형태로 변환하는 작업"
   ]
  },
  {
   "cell_type": "markdown",
   "id": "11e68d28-a7bd-4d5c-9def-adcc73041fe7",
   "metadata": {},
   "source": [
    "<table>\n",
    "<tr>\n",
    "    <th><img src=\"https://tmn-bucket-materials-all.s3.ap-northeast-2.amazonaws.com/image/textbook/sym_02_01_04.png\" width=\"800\"></th>\n",
    "    </tr>\n",
    "<tr>\n",
    "    <th>아날로그 정보가 디지털 정보로 변환되는 과정</th>\n",
    "</tr>\n",
    "</table>"
   ]
  },
  {
   "cell_type": "markdown",
   "id": "f4a31103-be87-4699-beb7-c4551cf86b97",
   "metadata": {},
   "source": [
    "- 비트(bit) : 0 또는 1로 표현된 2진수 한 자리. 정보 표현의 최소 단위\n",
    "- 바이트(byte) : 비트가 8개. 문자 또는 숫자를 표현하는 기본 단위"
   ]
  },
  {
   "cell_type": "markdown",
   "id": "f9902e7e-66a5-497a-92ad-d1f6df4861cb",
   "metadata": {},
   "source": [
    "<table>\n",
    "<tr>\n",
    "    <th><img src=\"https://tmn-bucket-materials-all.s3.ap-northeast-2.amazonaws.com/image/textbook/sym_02_01_05.png\" width=\"700\"></th>\n",
    "    </tr>\n",
    "<tr>\n",
    "    <th>10진수를 2진수로 표현</th>\n",
    "</tr>\n",
    "</table>"
   ]
  },
  {
   "cell_type": "markdown",
   "id": "550bb6ed-e10e-4fd7-9a6b-b79b0437be72",
   "metadata": {},
   "source": [
    "- 문자 코드 : 문자, 특수 기호 등을 사용하기 위해 문자별로 약속된 2진수 값\n",
    "- 대표적으로 아스키코드, 유니코드"
   ]
  },
  {
   "cell_type": "markdown",
   "id": "9ec3c92c-e66b-4e3f-bde8-4fa847c4ae14",
   "metadata": {},
   "source": [
    "<table>\n",
    "<tr>\n",
    "    <th><img src=\"https://tmn-bucket-materials-all.s3.ap-northeast-2.amazonaws.com/image/textbook/sym_02_01_06.png\" width=\"700\"></th>\n",
    "    </tr>\n",
    "<tr>\n",
    "    <th> 문자 정보의 디지털 표현</th>\n",
    "</tr>\n",
    "</table>"
   ]
  },
  {
   "cell_type": "markdown",
   "id": "cc4b9256-7ff8-46ed-a240-7330fae0200b",
   "metadata": {},
   "source": [
    " - 픽셀 : 이미지를 구성하는 작은 점\n",
    " - 해상도 : 픽셀 수의 많고 적음에 따라 그림의 선명도가 결정"
   ]
  },
  {
   "cell_type": "markdown",
   "id": "cd5ec969-592f-4079-b914-deb10e4dcadc",
   "metadata": {},
   "source": [
    "<table>\n",
    "<tr>\n",
    "    <th><img src=\"https://tmn-bucket-materials-all.s3.ap-northeast-2.amazonaws.com/image/textbook/sym_02_01_07.png\" width=\"700\"></th>\n",
    "    </tr>\n",
    "<tr>\n",
    "    <th>저해상도와 고해상도</th>\n",
    "</tr>\n",
    "</table>"
   ]
  },
  {
   "cell_type": "markdown",
   "id": "73841782-13aa-4686-9f1e-1cf68b686bd9",
   "metadata": {},
   "source": [
    "<table>\n",
    "<tr>\n",
    "    <th><img src=\"https://tmn-bucket-materials-all.s3.ap-northeast-2.amazonaws.com/image/textbook/sym_02_01_08.png\" width=\"700\"></th>\n",
    "    </tr>\n",
    "<tr>\n",
    "    <th>그림 정보의 디지털 표현</th>\n",
    "</tr>\n",
    "</table>"
   ]
  },
  {
   "cell_type": "markdown",
   "id": "42124811-c8ae-44ab-a71a-0f9f93465fa6",
   "metadata": {},
   "source": [
    "<div style=\"padding: 15px; border: 5px solid transparent; border-color: transparent; margin-bottom: 20px; border-radius: 4px; color: #8a6d3b;  border-color: #faebcc; font-weight: bold;\">\n",
    "    <div style=\"font-weight: bold; font-size: 20px\">✏️ [문제2]</div>\n",
    "    <br>\n",
    "다음 10진수를 2진수로 표현해 보자<br>\n",
    "</div>"
   ]
  },
  {
   "cell_type": "markdown",
   "id": "a017ff9d-c8ea-4341-9798-6196adc45668",
   "metadata": {},
   "source": [
    "<div align=center>\n",
    "    <img src='https://tmn-bucket-materials-all.s3.ap-northeast-2.amazonaws.com/image/textbook/sym_02_01_09.png' width=400>\n",
    "</div>"
   ]
  },
  {
   "cell_type": "markdown",
   "id": "7237d28d-33c8-40ce-8c51-7333e97a6c2a",
   "metadata": {},
   "source": [
    "<div style=\"padding: 15px; border: 5px solid transparent; border-color: transparent; margin-bottom: 20px; border-radius: 4px; color: #8a6d3b;  border-color: #faebcc; font-weight: bold;\">\n",
    "    <div style=\"font-weight: bold; font-size: 20px\">✏️ [문제3]</div>\n",
    "    <br>\n",
    "다음 그림을 디지털 정보로 표현해 보자.\n",
    "</div>"
   ]
  },
  {
   "cell_type": "markdown",
   "id": "61afcda6-6b75-48fd-b3ac-3d0c9fba2b8d",
   "metadata": {},
   "source": [
    "<div align=center>\n",
    "    <img src='https://tmn-bucket-materials-all.s3.ap-northeast-2.amazonaws.com/image/textbook/sym_02_01_10.png' width=400>\n",
    "    </div>"
   ]
  }
 ],
 "metadata": {
  "kernelspec": {
   "display_name": "Python 3 (ipykernel)",
   "language": "python",
   "name": "python3"
  },
  "language_info": {
   "codemirror_mode": {
    "name": "ipython",
    "version": 3
   },
   "file_extension": ".py",
   "mimetype": "text/x-python",
   "name": "python",
   "nbconvert_exporter": "python",
   "pygments_lexer": "ipython3",
   "version": "3.10.13"
  }
 },
 "nbformat": 4,
 "nbformat_minor": 5
}
