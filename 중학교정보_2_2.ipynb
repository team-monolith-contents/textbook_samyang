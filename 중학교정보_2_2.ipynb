{
 "cells": [
  {
   "cell_type": "markdown",
   "id": "4cd46724-6014-43a2-ab51-dca66618fe86",
   "metadata": {},
   "source": [
    "<div style=\"padding: 15px; border: 5px solid transparent; border-color: transparent; margin-bottom: 20px; border-radius: 4px; color: #3c763d; background-color: #dff0d8; border-color: #d6e9c6; font-weight: bold;\">\n",
    "    <br><br>\n",
    "    <div style=\"font-weight: bold; font-size: 40px\">자료와 정보</div>\n",
    "    <div style=\"font-weight: bold; font-size: 20px\">[02] 자료의 수집과 관리<br>\n",
    "    [03] 정보의 구조화</div>\n",
    "    <hr style=\"width:80%;text-align:left;margin-left:0;border:0.5px solid green\">\n",
    "    <br>\n",
    "    &#x2022; 인터넷과 응용 소프트웨어를 활용하여 문제 해결을 위한 자료를 수집하고 관리할 수 있다. <br>\n",
    "    &#x2022; 생활 속의 정보를 표, 다이어그램 등 다양한 형태로 구조화하여 표현할 수 있다.<br>\n",
    "</div>"
   ]
  },
  {
   "cell_type": "markdown",
   "id": "807d180e-b63b-46fa-8700-9316dc98eb55",
   "metadata": {},
   "source": [
    "<div style=\"padding: 15px; border: 5px solid transparent; border-color: transparent; margin-bottom: 20px; border-radius: 4px; color: #3c763d; border-color: #d6e9c6; font-weight: bold;\">\n",
    "<h2 style='font-weight: bold'>2. 자료의 수집과 관리</h2>\n",
    "</div>"
   ]
  },
  {
   "cell_type": "markdown",
   "id": "fc6e5cba-f1cb-4f0d-b949-c5b7b37b6362",
   "metadata": {},
   "source": [
    "<div style=\"padding: 15px; border: 5px solid transparent; border-color: transparent; margin-bottom: 20px; border-radius: 4px; color: #8a6d3b;  border-color: #faebcc; font-weight: bold;\">\n",
    "    <div style=\"font-weight: bold; font-size: 20px\">✏️ [생각 열기]</div>\n",
    "    <br>\n",
    "주변에 정리가 안 된 일상생활 용품이나 가구 등이 있는지 찾아보고, 어떻게 정리하면 좋을지 계획을 세워 보자.    \n",
    "</div>"
   ]
  },
  {
   "cell_type": "markdown",
   "id": "28532e06-ca41-4404-8cea-2cc492863872",
   "metadata": {},
   "source": [
    "\n",
    "<table>\n",
    "<tr>\n",
    "    <th><img src=\"https://tmn-bucket-materials-all.s3.ap-northeast-2.amazonaws.com/image/textbook/sym_02_02_01.png\" width=\"800\"></th>\n",
    "    </tr>\n",
    "</table>"
   ]
  },
  {
   "cell_type": "code",
   "execution_count": null,
   "id": "765213a4-419c-44f0-90de-59b6c5cb60c1",
   "metadata": {},
   "outputs": [],
   "source": [
    " 👉 \n",
    " 👉 "
   ]
  },
  {
   "cell_type": "markdown",
   "id": "b5193ae8-9f0f-4272-9882-b5b9a8fe229a",
   "metadata": {},
   "source": [
    "**자료는 어떻게 수집하고 관리할까**\n",
    "\n",
    "- 자료 수집 : 문제 해결을 위해 어떤 자료가 필요한지를 파악한 후 다양한 방법을 통해 자료를 검색하여 모으는 과정\n",
    "- 자료의 수집 방법 : 관찰, 측정, 인터뷰, 설문 조사, 문헌 조사, 인터넷 검색 등"
   ]
  },
  {
   "cell_type": "markdown",
   "id": "9ae17da2-64fb-4fc5-bfc4-905834eda717",
   "metadata": {},
   "source": [
    "<table>\n",
    "<tr>\n",
    "    <th><img src=\"https://tmn-bucket-materials-all.s3.ap-northeast-2.amazonaws.com/image/textbook/sym_02_02_02.png\" width=\"600\"></th>\n",
    "    </tr>\n",
    "<tr>\n",
    "    <th>다양한 자료 수집 방법</th>\n",
    "</tr>\n",
    "</table>"
   ]
  },
  {
   "cell_type": "markdown",
   "id": "1781d22d-a9f0-4c9d-925a-918a79d3c6a3",
   "metadata": {},
   "source": [
    "<table>\n",
    "<tr>\n",
    "    <th><img src=\"https://tmn-bucket-materials-all.s3.ap-northeast-2.amazonaws.com/image/textbook/sym_02_02_03.png\" width=\"700\"></th>\n",
    "    </tr>\n",
    "<tr>\n",
    "    <th>자료의 수집 계획</th>\n",
    "</tr>\n",
    "</table>"
   ]
  },
  {
   "cell_type": "markdown",
   "id": "01fbc1c1-5464-451a-90db-8c349a88f5eb",
   "metadata": {},
   "source": [
    "- 자료의 분류 : 수집한 자료는 일정 기준에 따라 정리하고 나눈다. "
   ]
  },
  {
   "cell_type": "markdown",
   "id": "c98f993a-435b-4c8f-96c7-991afe2d2138",
   "metadata": {},
   "source": [
    "<table>\n",
    "<tr>\n",
    "    <th><img src=\"https://tmn-bucket-materials-all.s3.ap-northeast-2.amazonaws.com/image/textbook/sym_02_02_04.png\" width=\"800\"></th>\n",
    "    </tr>\n",
    "<tr>\n",
    "    <th>반 티셔츠를 구입하기 위한 의견 수렴 과정</th>\n",
    "</tr>\n",
    "</table>"
   ]
  },
  {
   "cell_type": "markdown",
   "id": "3c28c9ef-4255-4554-ac0a-237cd101551a",
   "metadata": {},
   "source": [
    "자료 관리의 대표적인 소프트웨어인 스프레드시트를 활용하면 자료를 표 형태로 저장할 수 있으며, 차트나 조직도 등 다양한 방법으로 표현할 수 있다.\n",
    "\n",
    "컴퓨터에 저장된 자료는 오프라인(off-line)이나 온라인(on-line)을 통해 다양한 방법으로 공유하고 활용할 수 있다."
   ]
  },
  {
   "cell_type": "markdown",
   "id": "49a5b524-aa46-4f9f-961b-46d08653c536",
   "metadata": {},
   "source": [
    "<table>\n",
    "<tr>\n",
    "    <th><img src=\"https://tmn-bucket-materials-all.s3.ap-northeast-2.amazonaws.com/image/textbook/sym_02_02_05.png\" width=\"700\"></th>\n",
    "    </tr>\n",
    "<tr>\n",
    "    <th> 스프레드시트를 이용한 자료 관리</th>\n",
    "</tr>\n",
    "</table>"
   ]
  },
  {
   "cell_type": "markdown",
   "id": "40ab67d8-1cdf-4b73-adcc-5c96a1c98273",
   "metadata": {},
   "source": [
    "<table>\n",
    "<tr>\n",
    "    <th><img src=\"https://tmn-bucket-materials-all.s3.ap-northeast-2.amazonaws.com/image/textbook/sym_02_02_06.png\"></th>\n",
    "    </tr>\n",
    "<tr>\n",
    "    <th> 다양한 자료 공유 방법</th>\n",
    "</tr>\n",
    "</table>"
   ]
  },
  {
   "cell_type": "markdown",
   "id": "d3e54be5-b72c-4228-a5e5-1469356b00be",
   "metadata": {},
   "source": [
    "<div style=\"padding: 15px; border: 5px solid transparent; border-color: transparent; margin-bottom: 20px; border-radius: 4px; color: #8a6d3b;  border-color: #faebcc; font-weight: bold;\">\n",
    "    <div style=\"font-weight: bold; font-size: 20px\">✏️ [문제1]</div>\n",
    "    <br>\n",
    "우리 학교의 인기 급식 메뉴, 학교 주변의 인기 음식점, 좋아하는 연예인 등 모둠별로 설문 조사의 주제를 정한다. 주제에\n",
    "맞는 자료를 수집한 후 결과를 공유해 보자(모둠 활동).<br><br>\n",
    "1. 조사하고 싶은 설문 주제는 무엇인가?<br><br>\n",
    "2. 토의를 통해 자료 수집 계획을 세워 보자.<br><br>\n",
    "3. 응용 소프트웨어를 활용하여 설문 항목을 작성하고 설문 조사를 실시해 보자.<br><br>\n",
    "4. 투표 결과를 공유해 보고, 응용 소프트웨어를 활용한 자료의 수집, 분류, 저장, 공유의 장단점을 분석해 보자.\n",
    "</div>"
   ]
  },
  {
   "cell_type": "code",
   "execution_count": null,
   "id": "25c32729-f0c3-42a3-9452-4396dcc9880c",
   "metadata": {},
   "outputs": [],
   "source": [
    " 👉 \n",
    " 👉 "
   ]
  },
  {
   "cell_type": "markdown",
   "id": "4ef41cd7-ffe6-4f8f-9800-a1af7c78da6a",
   "metadata": {},
   "source": [
    "<div style=\"padding: 15px; border: 5px solid transparent; border-color: transparent; margin-bottom: 20px; border-radius: 4px; color: #3c763d; border-color: #d6e9c6; font-weight: bold;\">\n",
    "<h2 style='font-weight: bold'>3. 정보의 구조화</h2>\n",
    "</div>"
   ]
  },
  {
   "cell_type": "markdown",
   "id": "0eaf9abe-50a8-476f-90ea-13753c0ff175",
   "metadata": {},
   "source": [
    "<div style=\"padding: 15px; border: 5px solid transparent; border-color: transparent; margin-bottom: 20px; border-radius: 4px; color: #8a6d3b;  border-color: #faebcc; font-weight: bold;\">\n",
    "    <div style=\"font-weight: bold; font-size: 20px\">✏️ [생각 열기]</div>\n",
    "    <br>\n",
    "구조화란 주어진 상황을 성격과 특징에 맞게 분류하고, 이것을 다시 체계적으로 조직하는 것을 말한다. 다음 사례처럼 정보를 구조화하면 어떤 장점이 있을지 함께 이야기해 보자.    \n",
    "</div>"
   ]
  },
  {
   "cell_type": "markdown",
   "id": "54261d96-ab1b-4628-ae7f-ea9be0014f8f",
   "metadata": {},
   "source": [
    "<table>\n",
    "<tr>\n",
    "    <td><img src=\"https://tmn-bucket-materials-all.s3.ap-northeast-2.amazonaws.com/image/textbook/sym_02_02_07.png\" width=\"800\"></td>\n",
    "    </tr>\n",
    "</table>"
   ]
  },
  {
   "cell_type": "markdown",
   "id": "6bb91fa5-6606-4477-8ccc-11b5d68c1e64",
   "metadata": {},
   "source": [
    "**정보의 구조화란 무엇일까**\n",
    "\n",
    "- 정보의 구조화 :  다양한 정보를 성격과 특징에 맞게 분류하고, 체계적으로 정리하여 표현하는 것\n",
    "- 정보를 잘 정리해서 구조화하면 필요한 정보를 쉽게 찾을 수 있을 뿐만 아니라 같은 정보라도 다른 사람에게 효과적으로 전달할 수 있다."
   ]
  },
  {
   "cell_type": "markdown",
   "id": "99d1db5a-71b3-4988-abbc-e25e4cda022d",
   "metadata": {},
   "source": [
    "<table>\n",
    "<tr>\n",
    "    <th><img src=\"https://tmn-bucket-materials-all.s3.ap-northeast-2.amazonaws.com/image/textbook/sym_02_02_08.png\" width=\"800\"></th>\n",
    "    </tr>\n",
    "<tr>\n",
    "    <th> 생활 속 구조화의 예</th>\n",
    "</tr>\n",
    "</table>"
   ]
  },
  {
   "cell_type": "markdown",
   "id": "ef83a709-8721-491c-9fc5-c7f00c99ec5b",
   "metadata": {},
   "source": [
    "**정보의 구조화는 어떻게 할까**\n",
    "\n",
    "-  정보는 글이나 표, 그림 등으로 구조화하여 표현할 수 있다.\n",
    "- 정보의 종류와 특징, 활용 목적에 따라 어떤 표현 방법을 사용하는 것이 효율적인지를 파악하는 것이 중요하다."
   ]
  },
  {
   "cell_type": "markdown",
   "id": "e88620de-0b40-4380-954f-6f5305aba459",
   "metadata": {},
   "source": [
    "<table>\n",
    "<tr>\n",
    "    <th colspan=2><img src=\"https://tmn-bucket-materials-all.s3.ap-northeast-2.amazonaws.com/image/textbook/sym_02_02_09.png\" width=\"600\"></th>\n",
    "</tr>\n",
    "    <tr><td align=center>여행 계획서</td><td align=center>행사 안내</td></tr>\n",
    "    <tr><th colspan=2>글로 표현하기</th></tr>\n",
    "</table>"
   ]
  },
  {
   "cell_type": "markdown",
   "id": "9dce5d92-d3b2-4348-9d77-e2ffd5fa9a66",
   "metadata": {},
   "source": [
    "<table>\n",
    "<tr>\n",
    "    <th colspan=2><img src=\"https://tmn-bucket-materials-all.s3.ap-northeast-2.amazonaws.com/image/textbook/sym_02_02_10.png\" width=\"600\"></th>\n",
    "</tr>\n",
    "    <tr><td align=center width=50%>시간표</td><td align=center width=50%> 남자의 신장별 표준 체중과 에너지 필요량</td></tr>\n",
    "    <tr><th colspan=2>표(테이블)로 표현하기</th></tr>\n",
    "</table>"
   ]
  },
  {
   "cell_type": "markdown",
   "id": "0c6f0845-fe10-4207-bcae-76275371d5a5",
   "metadata": {},
   "source": [
    "<table>\n",
    "<tr><th colspan=2><img src=\"https://tmn-bucket-materials-all.s3.ap-northeast-2.amazonaws.com/image/textbook/sym_02_02_11.png\" width=\"600\"></th></tr>\n",
    "<tr>\n",
    "    <td align=center width=50%>우리 반 조직도</td>\n",
    "    <td align=center width=50%>지하철 노선도</td>\n",
    "</tr>\n",
    "    <tr><th colspan=2><img src=\"https://tmn-bucket-materials-all.s3.ap-northeast-2.amazonaws.com/image/textbook/sym_02_02_12.png\" width=\"600\"></th></tr>\n",
    "<tr>\n",
    "    <td align=center>인터넷 이용 현황</td>\n",
    "    <td align=center>나의 진로 탐색</td>\n",
    "</tr>\n",
    "    <tr><th colspan=2><img src=\"https://tmn-bucket-materials-all.s3.ap-northeast-2.amazonaws.com/image/textbook/sym_02_02_13.png\" width=\"600\"></th></tr>\n",
    "<tr>\n",
    "    <td align=center>방과 후 학교 프로그램 신청 현황</td>\n",
    "    <td align=center>지능 정보 기술과 20년 내 사라질 직업</td>\n",
    "</tr>\n",
    "    <tr><th colspan=2>그림으로 표현하기</th></tr>\n",
    "</table>"
   ]
  },
  {
   "cell_type": "markdown",
   "id": "f681e194-fb5a-4dd3-85cd-08eecd91351e",
   "metadata": {},
   "source": [
    "<div style=\"padding: 15px; border: 5px solid transparent; border-color: transparent; margin-bottom: 20px; border-radius: 4px; color: #8a6d3b;  border-color: #faebcc; font-weight: bold;\">\n",
    "    <div style=\"font-weight: bold; font-size: 20px\">✏️ [문제2]</div>\n",
    "    <br>\n",
    "    다음 내용을 표와 그림으로 구조화하여 표현해 보자.<br><br>\n",
    "        <div style=\"padding: 15px; border: 5px solid transparent; border-color: transparent; margin-bottom: 20px; border-radius: 4px; color: #555555; font-weight: normal;\">국가통계포털에서 1,500명을 대상으로 “지금 당장 10일의 휴일이 주어진다면”이란 주제로 설문 조사를 했는데 “무조건 여행”이 38.6%로 응답자 수가 가장 많았으며, 그 외에는 “집에서 쉰다”가 17.2%, “영화, 독서 등 문화생활”이 15.2%, “가족 또는 친구와 즐거운 시간”이 25.7%, “휴일이 싫다”라고 응답한 사람이 3.3% 비율로 나타났다.<br><br>\n",
    "        [출처] 국가통계포털, 통계로 보는 자화상\n",
    "</div>   \n",
    "</div>"
   ]
  },
  {
   "cell_type": "markdown",
   "id": "7c11bcde-c715-436d-aeaa-afc126d2e019",
   "metadata": {},
   "source": [
    "<table>\n",
    "<tr>\n",
    "    <th colspan=2><img src=\"https://tmn-bucket-materials-all.s3.ap-northeast-2.amazonaws.com/image/textbook/sym_02_02_14.png\" width=\"800\"></th>\n",
    "</tr>\n",
    "</table>"
   ]
  }
 ],
 "metadata": {
  "kernelspec": {
   "display_name": "Python 3 (ipykernel)",
   "language": "python",
   "name": "python3"
  },
  "language_info": {
   "codemirror_mode": {
    "name": "ipython",
    "version": 3
   },
   "file_extension": ".py",
   "mimetype": "text/x-python",
   "name": "python",
   "nbconvert_exporter": "python",
   "pygments_lexer": "ipython3",
   "version": "3.10.13"
  }
 },
 "nbformat": 4,
 "nbformat_minor": 5
}
